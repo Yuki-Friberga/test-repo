{
  "nbformat": 4,
  "nbformat_minor": 0,
  "metadata": {
    "colab": {
      "name": "Googles-Jupyter-NoreBook.ipynb",
      "provenance": [],
      "toc_visible": true
    },
    "kernelspec": {
      "name": "python3",
      "display_name": "Python 3"
    },
    "language_info": {
      "name": "python"
    }
  },
  "cells": [
    {
      "cell_type": "markdown",
      "metadata": {
        "id": "GXcZxiet6e4U"
      },
      "source": [
        "Det här är python kod som du kan köra genom att trycka på pilen."
      ]
    },
    {
      "cell_type": "code",
      "metadata": {
        "id": "GJQ9sS_a6l1a"
      },
      "source": [
        "print(\"Hej hopp!\")\n"
      ],
      "execution_count": null,
      "outputs": []
    },
    {
      "cell_type": "code",
      "metadata": {
        "colab": {
          "base_uri": "https://localhost:8080/"
        },
        "id": "F6maRWsub7f5",
        "outputId": "4955187c-a8a6-4208-b07d-6c077f137cf9"
      },
      "source": [
        "print( 24 + 30)\n"
      ],
      "execution_count": null,
      "outputs": [
        {
          "output_type": "stream",
          "name": "stdout",
          "text": [
            "54\n"
          ]
        }
      ]
    },
    {
      "cell_type": "markdown",
      "metadata": {
        "id": "hO-zDnlRgEKa"
      },
      "source": [
        "\n",
        "\n",
        "---\n",
        "\n"
      ]
    },
    {
      "cell_type": "markdown",
      "metadata": {
        "id": "QxnmKAvGcZuE"
      },
      "source": [
        "Varför blir det olika värden på svaren/Output nedan?\n"
      ]
    },
    {
      "cell_type": "code",
      "metadata": {
        "colab": {
          "base_uri": "https://localhost:8080/"
        },
        "id": "QxYdWt9ycCtp",
        "outputId": "daf51f7f-21db-417b-fe9a-3cc4ff00b06c"
      },
      "source": [
        "a = 50\n",
        "b = 45\n",
        "print(a + b)\n"
      ],
      "execution_count": null,
      "outputs": [
        {
          "output_type": "stream",
          "name": "stdout",
          "text": [
            "95\n"
          ]
        }
      ]
    },
    {
      "cell_type": "code",
      "metadata": {
        "colab": {
          "base_uri": "https://localhost:8080/"
        },
        "id": "CzLQVQlZcOz4",
        "outputId": "bcaf4267-d68a-4ab1-eb49-2283e9ec8b6c"
      },
      "source": [
        "a = \"50\"\n",
        "b = '45'\n",
        "print(a + b)"
      ],
      "execution_count": null,
      "outputs": [
        {
          "output_type": "stream",
          "name": "stdout",
          "text": [
            "5045\n"
          ]
        }
      ]
    },
    {
      "cell_type": "markdown",
      "metadata": {
        "id": "pXZvzr527VgF"
      },
      "source": [
        "Skriv ditt svar här:\n",
        "\n",
        "\n",
        ".\n",
        "\n",
        "\n",
        "\n"
      ]
    },
    {
      "cell_type": "markdown",
      "metadata": {
        "id": "LKS-CBY3g-Vq"
      },
      "source": [
        "\n",
        "\n",
        "---\n",
        "\n"
      ]
    }
  ]
}